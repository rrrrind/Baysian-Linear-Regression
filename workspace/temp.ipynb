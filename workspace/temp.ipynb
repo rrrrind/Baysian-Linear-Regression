{
 "cells": [
  {
   "cell_type": "markdown",
   "id": "peripheral-international",
   "metadata": {},
   "source": [
    "# ベイズ線形回帰の実装"
   ]
  },
  {
   "cell_type": "markdown",
   "id": "serial-portsmouth",
   "metadata": {},
   "source": [
    "## やること"
   ]
  },
  {
   "cell_type": "markdown",
   "id": "asian-india",
   "metadata": {},
   "source": [
    "1. 観測データセットの作成 \\\n",
    "今回はsin波にガウスノイズを付加したデータセットを15プロット作成 \\\n",
    "$y_n = \\mathrm{sin}(x_n) + \\sigma_n^2 $ \\\n",
    "$\\sigma_n^2 = \\mathcal{N}(0,\\sigma_n^2) $ \\\n",
    "つまり，  \n",
    "$y_n = \\mathcal{N}(\\mathrm{sin}(x_n),\\sigma^2) $ \\\n",
    "を基に観測データセットを作成する \\\n",
    "それを多項式： \\\n",
    "$\\hat{\\mu}={\\bf w}_0^{\\mathrm{T}} \\cdot {\\bf \\hat{x_n}}^{3} + {\\bf w}_1^{\\mathrm{T}} \\cdot {\\bf \\hat{x_n}}^{2} + {\\bf w}_2^{\\mathrm{T}} \\cdot \\hat{{\\bf x_n}} + {\\bf w}_3^{\\mathrm{T}} \\cdot 1$ \\\n",
    "$\\hat{y_n} = \\mathcal{N}(\\hat{y_n}|\\hat{\\mu},\\hat{\\sigma^2}) $ \\\n",
    "で近似する\n",
    "1. メインプログラム作成の流れ\n",
    "    1. 観測データセットの作成\n",
    "    1. 重み分布の更新プログラム\n",
    "    1. 予測分布プログラム\n",
    "    1. 結果を可視化するプログラム\n",
    "    1. それらを呼び出すプログラム  "
   ]
  },
  {
   "cell_type": "code",
   "execution_count": 80,
   "id": "white-palace",
   "metadata": {},
   "outputs": [],
   "source": [
    "import numpy as np\n",
    "import matplotlib.pyplot as plt"
   ]
  },
  {
   "cell_type": "markdown",
   "id": "precious-complexity",
   "metadata": {},
   "source": [
    "## A. 観測データセットの作成"
   ]
  },
  {
   "cell_type": "code",
   "execution_count": 102,
   "id": "negative-mason",
   "metadata": {},
   "outputs": [],
   "source": [
    "mu  = -10 \n",
    "std = 2\n",
    "sampling = 15\n",
    "\n",
    "np.random.seed(2)\n",
    "x = np.random.normal(mu, std, sampling)\n",
    "# 正規分布\n",
    "y = lambda x, mu, std: np.exp( (-(x - mu)**2) / (2*(std**2)) ) / (np.sqrt(2*np.pi)*std)"
   ]
  },
  {
   "cell_type": "code",
   "execution_count": 103,
   "id": "voluntary-rainbow",
   "metadata": {},
   "outputs": [
    {
     "data": {
      "text/plain": [
       "array([-10.83351569, -10.11253365, -14.27239219,  -6.71945838,\n",
       "       -13.58687117, -11.68349473,  -8.99423717, -12.49057617,\n",
       "       -12.11590444, -11.81801523,  -8.89709191,  -5.41558397,\n",
       "        -9.91692121, -12.23585089,  -8.92188336])"
      ]
     },
     "execution_count": 103,
     "metadata": {},
     "output_type": "execute_result"
    }
   ],
   "source": [
    "x"
   ]
  },
  {
   "cell_type": "code",
   "execution_count": 104,
   "id": "indoor-disability",
   "metadata": {},
   "outputs": [
    {
     "data": {
      "text/plain": [
       "<matplotlib.collections.PathCollection at 0x7fe97b3f3320>"
      ]
     },
     "execution_count": 104,
     "metadata": {},
     "output_type": "execute_result"
    },
    {
     "data": {
      "image/png": "[encoded data removed]",
      "text/plain": [
       "<Figure size 432x288 with 1 Axes>"
      ]
     },
     "metadata": {
      "needs_background": "light"
     },
     "output_type": "display_data"
    }
   ],
   "source": [
    "plt.scatter(x,y(x, mu, std))"
   ]
  },
  {
   "cell_type": "code",
   "execution_count": null,
   "id": "rubber-cooper",
   "metadata": {},
   "outputs": [],
   "source": []
  },
  {
   "cell_type": "code",
   "execution_count": null,
   "id": "sticky-jurisdiction",
   "metadata": {},
   "outputs": [],
   "source": []
  }
 ],
 "metadata": {
  "kernelspec": {
   "display_name": "Python 3",
   "language": "python",
   "name": "python3"
  },
  "language_info": {
   "codemirror_mode": {
    "name": "ipython",
    "version": 3
   },
   "file_extension": ".py",
   "mimetype": "text/x-python",
   "name": "python",
   "nbconvert_exporter": "python",
   "pygments_lexer": "ipython3",
   "version": "3.6.9"
  }
 },
 "nbformat": 4,
 "nbformat_minor": 5
}
