{
 "cells": [
  {
   "cell_type": "markdown",
   "id": "wrong-insurance",
   "metadata": {},
   "source": [
    "# ベイズ線形回帰の実装"
   ]
  },
  {
   "cell_type": "markdown",
   "id": "opening-judge",
   "metadata": {},
   "source": [
    "## やること"
   ]
  },
  {
   "cell_type": "markdown",
   "id": "adequate-shell",
   "metadata": {},
   "source": [
    "1. 観測データセットの作成 \\\n",
    "今回はsin波にガウスノイズを付加したデータセットを15プロット作成 \\\n",
    "$y_n = \\mathrm{sin}(x_n) + \\sigma_n^2 $ \\\n",
    "$\\sigma_n^2 = \\mathcal{N}(0,\\sigma_n^2) $ \\\n",
    "つまり，  \n",
    "$y_n = \\mathcal{N}(\\mathrm{sin}(x_n),\\sigma^2) $ \\\n",
    "を基に観測データセットを作成する \\\n",
    "それを多項式： \\\n",
    "$\\hat{\\mu}={\\bf w}_0^{\\mathrm{T}} \\cdot {\\bf \\hat{x_n}}^{3} + {\\bf w}_1^{\\mathrm{T}} \\cdot {\\bf \\hat{x_n}}^{2} + {\\bf w}_2^{\\mathrm{T}} \\cdot \\hat{{\\bf x_n}} + {\\bf w}_3^{\\mathrm{T}} \\cdot 1$ \\\n",
    "$\\hat{y_n} = \\mathcal{N}(\\hat{y_n}|\\hat{\\mu},\\hat{\\sigma^2}) $ \\\n",
    "で近似する\n",
    "1. メインプログラム作成の流れ\n",
    "    1. 観測データセットの作成\n",
    "    1. 重み分布の更新プログラム\n",
    "    1. 予測分布プログラム\n",
    "    1. 結果を可視化するプログラム\n",
    "    1. それらを呼び出すプログラム  "
   ]
  },
  {
   "cell_type": "code",
   "execution_count": 80,
   "id": "comparable-delaware",
   "metadata": {},
   "outputs": [],
   "source": [
    "import numpy as np\n",
    "import matplotlib.pyplot as plt"
   ]
  },
  {
   "cell_type": "markdown",
   "id": "korean-header",
   "metadata": {},
   "source": [
    "## A. 観測データセットの作成 + 学習データセットの作成"
   ]
  },
  {
   "cell_type": "code",
   "execution_count": 176,
   "id": "occupied-image",
   "metadata": {},
   "outputs": [],
   "source": [
    "# 観測データセット\n",
    "mu  = 0\n",
    "std = 1\n",
    "sampling = 15\n",
    "\n",
    "np.random.seed(2)\n",
    "x = np.random.normal(mu, std, sampling)\n",
    "# 正規分布\n",
    "y = lambda x, mu, std: (np.exp( (-(x - mu)**2) / (2*(std**2)) ) / (np.sqrt(2*np.pi)*std)) + 0.1*np.random.randn(len(x))"
   ]
  },
  {
   "cell_type": "code",
   "execution_count": 177,
   "id": "horizontal-processing",
   "metadata": {},
   "outputs": [
    {
     "data": {
      "text/plain": [
       "array([-0.41675785, -0.05626683, -2.1361961 ,  1.64027081, -1.79343559,\n",
       "       -0.84174737,  0.50288142, -1.24528809, -1.05795222, -0.90900761,\n",
       "        0.55145404,  2.29220801,  0.04153939, -1.11792545,  0.53905832])"
      ]
     },
     "execution_count": 177,
     "metadata": {},
     "output_type": "execute_result"
    }
   ],
   "source": [
    "# 学習データセット\n",
    "def update_x_hat(x, term_num):\n",
    "    x_hat = np.zeros([term_num, len(x)])\n",
    "    for i in range(term_num):\n",
    "        for j, x_raw in enumerate(x):\n",
    "            x_hat[i,j] = x_raw**(term_num-(i+1)) \n",
    "    return x_hat\n",
    "\n",
    "def set_x_hat(new_x_hat):\n",
    "    x_hat = new_x_hat\n",
    "    \n",
    "def get_x_hat():\n",
    "    return self.x_hat"
   ]
  },
  {
   "cell_type": "code",
   "execution_count": 178,
   "id": "global-dover",
   "metadata": {},
   "outputs": [
    {
     "data": {
      "text/plain": [
       "<matplotlib.collections.PathCollection at 0x7fe97b05a7b8>"
      ]
     },
     "execution_count": 178,
     "metadata": {},
     "output_type": "execute_result"
    },
    {
     "data": {
      "image/png": "[encoded data removed]",
      "text/plain": [
       "<Figure size 432x288 with 1 Axes>"
      ]
     },
     "metadata": {
      "needs_background": "light"
     },
     "output_type": "display_data"
    }
   ],
   "source": [
    "plt.scatter(x,y(x, mu, std))"
   ]
  },
  {
   "cell_type": "markdown",
   "id": "representative-swaziland",
   "metadata": {},
   "source": [
    "## B. 重み分布の更新プログラム"
   ]
  },
  {
   "cell_type": "code",
   "execution_count": 250,
   "id": "decent-backing",
   "metadata": {},
   "outputs": [],
   "source": [
    "self.weight_mean = np.zeros(4)\n",
    "self.weight_cov = np.ones([4,4])\n",
    "\n",
    "def get_weight_mean():\n",
    "    return weight_mean\n",
    "\n",
    "def _set_weight_mean(new_weight_mean):\n",
    "    weight_mean = new_weight_mean\n",
    "\n",
    "def get_weight_cov():\n",
    "    return cov\n",
    "    \n",
    "def _set_weight_cov(new_weight_cov):\n",
    "    weight_cov = new_weight_cov\n",
    "\n",
    "def _calc_weight_mean(n):\n",
    "    return update_weight_cov(n) * (((y[n]@get_x_hat()[n].T)/get_y_sigma()) + (1/get_weight_cov())@get_weight_mean())\n",
    "    \n",
    "def _calc_weight_cov(n):\n",
    "    return (np.dot(get_x_hat()[n], get_x_hat()[n].T) / get_y_sigma()) + (1/get_weight_cov())\n",
    "\n",
    "def update_weight_params(n):\n",
    "    new_weight_mean = _calc_weight_mean(n)\n",
    "    new_weight_cov = _calc_weight_cov(n)\n",
    "    _set_weight_mean(new_weight_mean)\n",
    "    _set_weight_cov(new_weight_cov)"
   ]
  },
  {
   "cell_type": "markdown",
   "id": "intelligent-dylan",
   "metadata": {},
   "source": [
    "## C. 予測分布プログラム"
   ]
  },
  {
   "cell_type": "code",
   "execution_count": null,
   "id": "moving-cincinnati",
   "metadata": {},
   "outputs": [],
   "source": [
    "def set_y_hat_mean(new_y_hat_mean):\n",
    "    y_hat_mean = new_y_hat_mean\n",
    "\n",
    "def update_y_hat_mean():\n",
    "    set_y_hat_mean(get_weight_mean@get_x_hat())[0]\n",
    "    \n",
    "def get_y_hat_mean():\n",
    "    return y_hat_mean\n",
    "\n",
    "def set_y_hat_sigma(new_y_hat_sigma):\n",
    "    y_hat_sigma = new_y_hat_sigma\n",
    "    \n",
    "def updata_y_hat_sigma():\n",
    "    set_y_hat_sigma(get_y_hat_sigma() + (get_x_hat().T@get_weight_cov()@get_x_hat()))\n",
    "    \n",
    "def get_y_hat_sigma():\n",
    "    return y_hat_sigma"
   ]
  },
  {
   "cell_type": "markdown",
   "id": "pointed-farming",
   "metadata": {},
   "source": [
    "## D. 結果を可視化するプログラム"
   ]
  },
  {
   "cell_type": "code",
   "execution_count": null,
   "id": "automated-interstate",
   "metadata": {},
   "outputs": [],
   "source": [
    "# 初期の重みは標準正規分布\n",
    "weight = get_weight(mu, sigma)\n",
    "\n",
    "# xの範囲(連続値に近似させる)\n",
    "x_range = np.arange(-2.5, 2.5, 0.01)\n",
    "\n",
    "# xを多項式に拡張\n",
    "x_hat = get_x_hat(x_range, len(mu))\n",
    "\n",
    "# 近似式(多項式)の期待値を取得\n",
    "updata_chi(weight, x_hat)\n",
    "chi = get_chi()\n",
    "\n",
    "# 近似式をプロットする\n",
    "plt.scatter(x_range, chi)"
   ]
  },
  {
   "cell_type": "markdown",
   "id": "smart-surrey",
   "metadata": {},
   "source": [
    "## E. それらを呼び出すプログラム"
   ]
  },
  {
   "cell_type": "code",
   "execution_count": 222,
   "id": "ordered-bottom",
   "metadata": {},
   "outputs": [],
   "source": [
    "    "
   ]
  }
 ],
 "metadata": {
  "kernelspec": {
   "display_name": "Python 3",
   "language": "python",
   "name": "python3"
  },
  "language_info": {
   "codemirror_mode": {
    "name": "ipython",
    "version": 3
   },
   "file_extension": ".py",
   "mimetype": "text/x-python",
   "name": "python",
   "nbconvert_exporter": "python",
   "pygments_lexer": "ipython3",
   "version": "3.6.9"
  }
 },
 "nbformat": 4,
 "nbformat_minor": 5
}
