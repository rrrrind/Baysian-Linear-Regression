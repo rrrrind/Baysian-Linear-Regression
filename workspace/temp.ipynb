{
 "cells": [
  {
   "cell_type": "markdown",
   "id": "chinese-greene",
   "metadata": {},
   "source": [
    "# ベイズ線形回帰の実装"
   ]
  },
  {
   "cell_type": "markdown",
   "id": "married-domain",
   "metadata": {},
   "source": [
    "## やること"
   ]
  },
  {
   "cell_type": "markdown",
   "id": "negative-constitution",
   "metadata": {},
   "source": [
    "1. 観測データセットの作成 \\\n",
    "今回はsin波にガウスノイズを付加したデータセットを15プロット作成 \\\n",
    "$y_n = \\mathrm{sin}(x_n) + \\sigma_n^2 $ \\\n",
    "$\\sigma_n^2 = \\mathcal{N}(0,\\sigma_n^2) $ \\\n",
    "つまり，  \n",
    "$y_n = \\mathcal{N}(\\mathrm{sin}(x_n),\\sigma^2) $ \\\n",
    "を基に観測データセットを作成する \\\n",
    "それを多項式： \\\n",
    "$\\hat{\\mu}={\\bf w}_0^{\\mathrm{T}} \\cdot {\\bf \\hat{x_n}}^{3} + {\\bf w}_1^{\\mathrm{T}} \\cdot {\\bf \\hat{x_n}}^{2} + {\\bf w}_2^{\\mathrm{T}} \\cdot \\hat{{\\bf x_n}} + {\\bf w}_3^{\\mathrm{T}} \\cdot 1$ \\\n",
    "$\\hat{y_n} = \\mathcal{N}(\\hat{y_n}|\\hat{\\mu},\\hat{\\sigma^2}) $ \\\n",
    "で近似する\n",
    "1. メインプログラム作成の流れ\n",
    "    1. 観測データセットの作成\n",
    "    1. 重み分布の更新プログラム\n",
    "    1. 予測分布プログラム\n",
    "    1. 結果を可視化するプログラム\n",
    "    1. それらを呼び出すプログラム  "
   ]
  },
  {
   "cell_type": "markdown",
   "id": "interim-princess",
   "metadata": {},
   "source": [
    "## 観測データセットの作成"
   ]
  },
  {
   "cell_type": "code",
   "execution_count": null,
   "id": "welcome-fight",
   "metadata": {},
   "outputs": [],
   "source": [
    " "
   ]
  },
  {
   "cell_type": "code",
   "execution_count": null,
   "id": "willing-idaho",
   "metadata": {},
   "outputs": [],
   "source": []
  },
  {
   "cell_type": "code",
   "execution_count": null,
   "id": "subjective-infection",
   "metadata": {},
   "outputs": [],
   "source": []
  },
  {
   "cell_type": "code",
   "execution_count": null,
   "id": "occasional-premium",
   "metadata": {},
   "outputs": [],
   "source": []
  },
  {
   "cell_type": "code",
   "execution_count": null,
   "id": "designing-treasure",
   "metadata": {},
   "outputs": [],
   "source": []
  }
 ],
 "metadata": {
  "kernelspec": {
   "display_name": "Python 3",
   "language": "python",
   "name": "python3"
  },
  "language_info": {
   "codemirror_mode": {
    "name": "ipython",
    "version": 3
   },
   "file_extension": ".py",
   "mimetype": "text/x-python",
   "name": "python",
   "nbconvert_exporter": "python",
   "pygments_lexer": "ipython3",
   "version": "3.6.9"
  }
 },
 "nbformat": 4,
 "nbformat_minor": 5
}
