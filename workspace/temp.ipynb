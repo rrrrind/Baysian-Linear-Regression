{
 "cells": [
  {
   "cell_type": "markdown",
   "id": "alleged-slovakia",
   "metadata": {},
   "source": [
    "# ベイズ線形回帰の実装"
   ]
  },
  {
   "cell_type": "markdown",
   "id": "stuck-lesson",
   "metadata": {},
   "source": [
    "## やること"
   ]
  },
  {
   "cell_type": "markdown",
   "id": "desperate-bunny",
   "metadata": {},
   "source": [
    "1. 観測データセットの作成 \\\n",
    "今回はsin波にガウスノイズを付加したデータセットを15プロット作成 \\\n",
    "それを多項式： \\\n",
    "$y={\\bf w}_0^{\\mathrm{T}} \\cdot {\\bf x}^{3} + {\\bf w}_1^{\\mathrm{T}} \\cdot {\\bf x}^{2} + {\\bf w}_2^{\\mathrm{T}} \\cdot {\\bf x}^{1} + {\\bf w}_3^{\\mathrm{T}} \\cdot 1$ \\\n",
    "で近似する\n",
    "1. メインプログラム作成の流れ\n",
    "    1. 観測データセットの作成\n",
    "    1. 重み分布の更新プログラム\n",
    "    1. 予測分布プログラム\n",
    "    1. 結果を可視化するプログラム\n",
    "    1. それらを呼び出すプログラム  "
   ]
  },
  {
   "cell_type": "markdown",
   "id": "disabled-wallet",
   "metadata": {},
   "source": [
    "## 観測データセットの作成"
   ]
  },
  {
   "cell_type": "code",
   "execution_count": null,
   "id": "equal-steal",
   "metadata": {},
   "outputs": [],
   "source": [
    " "
   ]
  },
  {
   "cell_type": "code",
   "execution_count": null,
   "id": "structural-joshua",
   "metadata": {},
   "outputs": [],
   "source": []
  },
  {
   "cell_type": "code",
   "execution_count": null,
   "id": "about-danger",
   "metadata": {},
   "outputs": [],
   "source": []
  },
  {
   "cell_type": "code",
   "execution_count": null,
   "id": "billion-protection",
   "metadata": {},
   "outputs": [],
   "source": []
  },
  {
   "cell_type": "code",
   "execution_count": null,
   "id": "final-humor",
   "metadata": {},
   "outputs": [],
   "source": []
  }
 ],
 "metadata": {
  "kernelspec": {
   "display_name": "Python 3",
   "language": "python",
   "name": "python3"
  },
  "language_info": {
   "codemirror_mode": {
    "name": "ipython",
    "version": 3
   },
   "file_extension": ".py",
   "mimetype": "text/x-python",
   "name": "python",
   "nbconvert_exporter": "python",
   "pygments_lexer": "ipython3",
   "version": "3.6.9"
  }
 },
 "nbformat": 4,
 "nbformat_minor": 5
}
